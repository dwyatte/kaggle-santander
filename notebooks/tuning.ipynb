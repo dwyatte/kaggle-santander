{
 "cells": [
  {
   "cell_type": "code",
   "execution_count": 1,
   "metadata": {
    "collapsed": true
   },
   "outputs": [],
   "source": [
    "%matplotlib inline"
   ]
  },
  {
   "cell_type": "code",
   "execution_count": 2,
   "metadata": {
    "collapsed": true
   },
   "outputs": [],
   "source": [
    "import sys\n",
    "import os\n",
    "sys.path.append(os.path.abspath('..'))"
   ]
  },
  {
   "cell_type": "code",
   "execution_count": 3,
   "metadata": {
    "collapsed": false
   },
   "outputs": [
    {
     "name": "stderr",
     "output_type": "stream",
     "text": [
      "Using Theano backend.\n",
      "/Users/dean.wyatte/miniconda2/envs/kaggle-santander/lib/python2.7/site-packages/theano/tensor/signal/downsample.py:6: UserWarning: downsample module has been moved to the theano.tensor.signal.pool module.\n",
      "  \"downsample module has been moved to the theano.tensor.signal.pool module.\")\n"
     ]
    }
   ],
   "source": [
    "import numpy as np\n",
    "import pandas as pd\n",
    "import matplotlib.pyplot as plt\n",
    "\n",
    "from sklearn.pipeline import Pipeline\n",
    "from sklearn.preprocessing import StandardScaler\n",
    "from sklearn.decomposition import PCA\n",
    "from sklearn.linear_model import LogisticRegression\n",
    "from sklearn.cross_validation import train_test_split\n",
    "from sklearn.metrics import roc_auc_score\n",
    "from sklearn.neighbors import KNeighborsClassifier\n",
    "from sklearn.ensemble import BaggingClassifier\n",
    "from sklearn.covariance import EmpiricalCovariance\n",
    "\n",
    "from keras.models import Sequential\n",
    "from keras.layers import Dense, Dropout\n",
    "from keras.optimizers import SGD\n",
    "\n",
    "from santander.preprocessing import ColumnDropper\n",
    "from santander.preprocessing import ZERO_VARIANCE_COLUMNS, CORRELATED_COLUMNS"
   ]
  },
  {
   "cell_type": "code",
   "execution_count": 4,
   "metadata": {
    "collapsed": false
   },
   "outputs": [],
   "source": [
    "df_train = pd.read_csv('../data/train.csv')\n",
    "df_target = df_train['TARGET']\n",
    "df_train = df_train.drop(['TARGET', 'ID'], axis=1)"
   ]
  },
  {
   "cell_type": "code",
   "execution_count": 5,
   "metadata": {
    "collapsed": false
   },
   "outputs": [
    {
     "name": "stdout",
     "output_type": "stream",
     "text": [
      "KNN: 0.629489\n",
      "KNN bag: 0.794783\n"
     ]
    }
   ],
   "source": [
    "# examining the effect of preprocessing/feature engineering on fixed knn scores -- base case\n",
    "\n",
    "X_train, X_test, y_train, y_test= train_test_split(df_train, df_target, test_size=0.3, random_state=0)\n",
    "\n",
    "pipeline = Pipeline([\n",
    "    ('cd', ColumnDropper(drop=ZERO_VARIANCE_COLUMNS+CORRELATED_COLUMNS)),\n",
    "    ('std', StandardScaler()),\n",
    "    ('pca', PCA(n_components=0.6))\n",
    "])\n",
    "\n",
    "X_train = pipeline.fit_transform(X_train)\n",
    "X_test = pipeline.transform(X_test)\n",
    "\n",
    "knn = KNeighborsClassifier(n_jobs=-1)\n",
    "knn.fit(X_train, y_train)\n",
    "print 'KNN: %f' % roc_auc_score(y_test, knn.predict_proba(X_test)[:, -1])\n",
    "\n",
    "knn_bag = BaggingClassifier(KNeighborsClassifier(n_jobs=-1), max_samples=0.01, max_features=0.9, n_estimators=250, random_state=0)\n",
    "knn_bag = knn_bag.fit(X_train, y_train)\n",
    "print 'KNN bag: %f' % roc_auc_score(y_test, knn_bag.predict_proba(X_test)[:, -1])"
   ]
  },
  {
   "cell_type": "code",
   "execution_count": 6,
   "metadata": {
    "collapsed": false
   },
   "outputs": [
    {
     "name": "stderr",
     "output_type": "stream",
     "text": [
      "/Users/dean.wyatte/miniconda2/envs/kaggle-santander/lib/python2.7/site-packages/ipykernel/__main__.py:32: FutureWarning: in the future, boolean array-likes will be handled as a boolean array index\n"
     ]
    },
    {
     "name": "stdout",
     "output_type": "stream",
     "text": [
      "KNN: 0.630247\n",
      "KNN bag: 0.797944\n"
     ]
    },
    {
     "name": "stderr",
     "output_type": "stream",
     "text": [
      "/Users/dean.wyatte/miniconda2/envs/kaggle-santander/lib/python2.7/site-packages/ipykernel/__main__.py:38: FutureWarning: in the future, boolean array-likes will be handled as a boolean array index\n"
     ]
    }
   ],
   "source": [
    "# examining the effect of preprocessing/feature engineering on fixed knn scores\n",
    "\n",
    "df_train_copy = df_train.copy()\n",
    "df_train_copy.loc[df_train_copy['var3'] == -999999.000000, 'var3'] = 2.0\n",
    "df_train_copy['num_zeros'] = (df_train_copy == 0).sum(axis=1)\n",
    "\n",
    "X_train, X_test, y_train, y_test= train_test_split(df_train_copy, df_target, test_size=0.3, random_state=0)\n",
    "age = X_test['var15']\n",
    "\n",
    "# 50k cutoff is slightly worse in this CV, but more conservative\n",
    "ec = EmpiricalCovariance()\n",
    "ec = ec.fit(X_train)\n",
    "m2 = ec.mahalanobis(X_train)\n",
    "X_train = X_train[m2 < 40000]\n",
    "y_train = y_train[m2 < 40000]\n",
    "\n",
    "# clip test to train values\n",
    "X_test = X_test.clip(X_train.min(), X_train.max(), axis=1)\n",
    "\n",
    "pipeline = Pipeline([\n",
    "    ('cd', ColumnDropper(drop=ZERO_VARIANCE_COLUMNS+CORRELATED_COLUMNS)),\n",
    "    ('std', StandardScaler()),\n",
    "    ('pca', PCA(n_components=0.6))\n",
    "])\n",
    "\n",
    "X_train = pipeline.fit_transform(X_train)\n",
    "X_test = pipeline.transform(X_test)\n",
    "\n",
    "knn = KNeighborsClassifier(n_jobs=-1)\n",
    "knn.fit(X_train, y_train)\n",
    "y_pred = knn.predict_proba(X_test)[:, -1]\n",
    "y_pred[age < 23] = 0\n",
    "print 'KNN: %f' % roc_auc_score(y_test, y_pred)\n",
    "\n",
    "knn_bag = BaggingClassifier(KNeighborsClassifier(n_jobs=-1), max_samples=0.01, max_features=0.9, n_estimators=250, random_state=0)\n",
    "knn_bag = knn_bag.fit(X_train, y_train)\n",
    "y_pred = knn_bag.predict_proba(X_test)[:, -1]\n",
    "y_pred[age < 23] = 0\n",
    "print 'KNN bag: %f' % roc_auc_score(y_test, y_pred)"
   ]
  }
 ],
 "metadata": {
  "kernelspec": {
   "display_name": "Python 2",
   "language": "python",
   "name": "python2"
  },
  "language_info": {
   "codemirror_mode": {
    "name": "ipython",
    "version": 2
   },
   "file_extension": ".py",
   "mimetype": "text/x-python",
   "name": "python",
   "nbconvert_exporter": "python",
   "pygments_lexer": "ipython2",
   "version": "2.7.11"
  }
 },
 "nbformat": 4,
 "nbformat_minor": 0
}
